{
  "cells": [
    {
      "cell_type": "code",
      "execution_count": null,
      "metadata": {
        "id": "1M-oeACAGyOL"
      },
      "outputs": [],
      "source": [
        "import numpy as np\n",
        "from numpy import linalg\n",
        "from scipy.special import binom\n",
        "from typing import Callable, List"
      ]
    },
    {
      "cell_type": "code",
      "execution_count": null,
      "metadata": {
        "id": "C75PCDdSIOid"
      },
      "outputs": [],
      "source": [
        "IntIndexing = Callable[[int], int]\n",
        "FloatIndexing = Callable[[int], np.float64]\n",
        "FloatDoubleIndexing = Callable[[int, int], np.float64]\n",
        "\n",
        "Row = List[np.float64]\n",
        "Rows = List[List[np.float64]]\n",
        "ListOfMatrices = List[np.ndarray]\n",
        "ListOfListOfMatrices = List[ListOfMatrices]"
      ]
    },
    {
      "cell_type": "markdown",
      "metadata": {
        "id": "0-qIX1eHRVFy"
      },
      "source": [
        "## 1. Math in the text\n",
        "\n",
        "The inputs are a number $n$ of points and a number $k$ of zero moments. In chapter 5, section \"Software Limitations\" the text explains why it assumes a relation between $n$ and $k$: $n = 2^l k$ for some $l$, so $\\displaystyle l = \\log_2\\left(\\frac{n}{k}\\right)$.\n",
        "\n",
        "## 1.1. Table of symbols and values in text and in the implementation\n",
        "\n",
        "|Symbol  |Text definition                                                       |Code implementation                                  |\n",
        "|--------|----------------------------------------------------------------------|-----------------------------------------------------|\n",
        "|l       |$\\displaystyle \\log_2\\left(\\frac{n}{k}\\right)$                        |$\\displaystyle \\log_2\\left(\\frac{n}{k}\\right)$       |\n",
        "|j       |$2, \\dots, l$                                                         |$1, \\dots, l - 1$                                    |\n",
        "|i       |$\\displaystyle 1, \\dots, \\frac{n}{2^j k}$                             |$\\displaystyle 0, \\dots, \\frac{n}{2^{(j + 1)} k} - 1$|\n",
        "|$\\mu$   |$\\displaystyle \\mu_{j,i} = \\frac{x_{1 + (i - 1)k2^j} + x_{ik2^j}}{2}$ |                                                     |\n",
        "|$\\sigma$|$\\displaystyle \\sigma_{j,i} = \\frac{x_{ik2^j} - x_{1+(i - 1)k2^j}}{2}$|                                                     |\n",
        "|$s$     |$s_i = (i - 1)2k$                                                     |$s_i = i2k$                                          |"
      ]
    },
    {
      "cell_type": "code",
      "execution_count": null,
      "metadata": {
        "id": "8UfFczLR8ln-"
      },
      "outputs": [],
      "source": [
        "def s_builder(k: int) -> IntIndexing:\n",
        "  '''s'''\n",
        "  def s(i) -> int:\n",
        "    return i*2*k\n",
        "  return  s\n",
        "\n",
        "\n",
        "def µ_builder(x: np.ndarray, k: int) -> FloatDoubleIndexing:\n",
        "  def µ(j: int, i: int) -> np.float64:\n",
        "    idx = ( i*k*2**(j + 1), (i + 1)*k*2**(j + 1) - 1 )\n",
        "    return (x[ idx[0] ] + x[ idx[1] ]) / 2\n",
        "  return µ\n",
        "\n",
        "\n",
        "def σ_builder(x: np.ndarray, k: int) -> FloatDoubleIndexing:\n",
        "  def σ(j: int, i: int) -> np.float64:\n",
        "    idx = ( (i + 1)*k*2**(j + 1) - 1, i*k*2**(j + 1) )\n",
        "    return (x[ idx[0] ] - x[ idx[1] ]) / 2\n",
        "  return σ\n",
        "\n",
        "\n",
        "def µ_rows(x: np.ndarray, k: int) -> Rows:\n",
        "  n = len(x) ; l = int(np.log2(n // k))\n",
        "  return [\n",
        "    [\n",
        "      (x[i*k*2**(j + 1)] + x[(i + 1)*k*2**(j + 1) - 1]) / 2\n",
        "      for i in range(n // (k*2**(j + 1)))\n",
        "    ]\n",
        "    for j in range(l)\n",
        "  ]\n",
        "\n",
        "\n",
        "def σ_rows(x: np.ndarray, k: int) -> Rows:\n",
        "  n = len(x) ; l = int(np.log2(n // k))\n",
        "  return [\n",
        "    [\n",
        "      (x[(i + 1)*k*2**(j + 1) - 1] - x[i*k*2**(j + 1)]) / 2\n",
        "      for i in range(n // (k*2**(j + 1)))\n",
        "    ]\n",
        "    for j in range(l)\n",
        "  ]\n",
        "\n",
        "\n",
        "def s_list(n: int, k: int) -> Row:\n",
        "  return [i*2*k for i in range(n // (2*k))]"
      ]
    },
    {
      "cell_type": "markdown",
      "metadata": {
        "id": "ImNi0VawOC7H"
      },
      "source": [
        "# Step 1\n",
        "\n",
        "## 1.1. Math in the text\n",
        "\n",
        "Compute $M'_{1,i}$ for $\\displaystyle i= 1, \\dots, \\frac{n}{2k}$\n",
        "\n",
        "$$\n",
        "\\begin{equation} \\tag{4.12}\n",
        "  M'_{1,i} = \\begin{pmatrix} \\displaystyle\n",
        "  1      & \\frac{x_{s_{i + 1}} + \\mu_{1,i}}{\\sigma_{1,i}} & \\dots & \\left(\\frac{x_{s_{i + 1}} + \\mu_{1,i}}{\\sigma_{1,i}}\\right)^{2k - 1} \\\\\n",
        "  1      & \\frac{x_{s_{i + 2}} + \\mu_{1,i}}{\\sigma_{1,i}} & \\dots & \\left(\\frac{x_{s_{i + 2}} + \\mu_{1,i}}{\\sigma_{1,i}}\\right)^{2k - 1} \\\\\n",
        "  \\vdots & & & \\vdots \\\\\n",
        "  1      & \\frac{x_{s_{i + 2k}} + \\mu_{1,i}}{\\sigma_{1,i}} & \\dots & \\left(\\frac{x_{s_{i + 2k}} + \\mu_{1,i}}{\\sigma_{1,i}}\\right)^{2k - 1} \\\\\n",
        "  \\end{pmatrix}\n",
        "\\end{equation}\n",
        "$$\n",
        "\n",
        "## 2. Math for the code\n",
        "\n",
        "Values for the code:\n",
        "\n",
        "$$\n",
        "\\displaystyle\n",
        "i = 0, \\dots, \\frac{n}{2k} - 1 \\\\\n",
        "s_i =  \n",
        "$$\n",
        "\n"
      ]
    },
    {
      "cell_type": "code",
      "execution_count": null,
      "metadata": {
        "id": "QRf-QPx6B74B"
      },
      "outputs": [],
      "source": [
        "def Ms_first_row(x: np.ndarray, k: int, l: int) -> ListOfMatrices:\n",
        "  '''the first row of the matrix of shifted and scaled matrices\n",
        "it's what in the text is called M\\'1,i '''\n",
        "  n = len(x) ; µ = µ_builder(x, k) ; σ = σ_builder(x, k) ; s = s_builder(k)\n",
        "  return [\n",
        "    np.array(\n",
        "        \n",
        "      [\n",
        "        [\n",
        "          ( (x[s(i) + row - 1] - µ(0, i)) / σ(0, i) )**col\n",
        "          for col in range(2*k)\n",
        "        ]\n",
        "        for row in range(2*k)\n",
        "      ], dtype=np.float64\n",
        "    )\n",
        "    for i in range(n//(2*k))\n",
        "  ]\n",
        "\n",
        "\n",
        "def M_1s_list(\n",
        "    x: np.ndarray,\n",
        "    k: int,\n",
        "    µ: Rows,\n",
        "    σ: Rows,\n",
        "    s: List[int]\n",
        ") -> ListOfListOfMatrices:\n",
        "  return [\n",
        "    np.array([\n",
        "      [\n",
        "        ((x[s[i] + row - 1] - µ[0][i]) / σ[0][i])**col\n",
        "        for col in range(2*k)\n",
        "      ]\n",
        "      for row in range(2*k)\n",
        "    ], dtype=np.float64)\n",
        "    for i in range(n // (2*k))\n",
        "  ]"
      ]
    },
    {
      "cell_type": "code",
      "execution_count": null,
      "metadata": {
        "id": "W7pgDk7KOCcD"
      },
      "outputs": [],
      "source": [
        "n, k = 8, 2\n",
        "l = int(np.log2(n // k))\n",
        "x = np.linspace(0, 1, num=n, endpoint=True)\n",
        "# M_1s = Ms_first_row(x, k, l)\n",
        "µ = µ_rows(x, k)\n",
        "σ = σ_rows(x, k)\n",
        "s = s_list(n, k)\n",
        "M_1s = M_1s_list(x, k, µ, σ, s)\n",
        "# M_1s"
      ]
    },
    {
      "cell_type": "code",
      "execution_count": null,
      "metadata": {
        "colab": {
          "base_uri": "https://localhost:8080/"
        },
        "id": "fb9cJwmjMhE3",
        "outputId": "c1a22267-0479-4621-911a-921af1508631"
      },
      "outputs": [
        {
          "data": {
            "text/plain": [
              "[array([[ 1.00000000e+00,  3.66666667e+00,  1.34444444e+01,\n",
              "          4.92962963e+01],\n",
              "        [ 1.00000000e+00, -1.00000000e+00,  1.00000000e+00,\n",
              "         -1.00000000e+00],\n",
              "        [ 1.00000000e+00, -3.33333333e-01,  1.11111111e-01,\n",
              "         -3.70370370e-02],\n",
              "        [ 1.00000000e+00,  3.33333333e-01,  1.11111111e-01,\n",
              "          3.70370370e-02]]),\n",
              " array([[ 1.        , -1.66666667,  2.77777778, -4.62962963],\n",
              "        [ 1.        , -1.        ,  1.        , -1.        ],\n",
              "        [ 1.        , -0.33333333,  0.11111111, -0.03703704],\n",
              "        [ 1.        ,  0.33333333,  0.11111111,  0.03703704]])]"
            ]
          },
          "execution_count": 7,
          "metadata": {},
          "output_type": "execute_result"
        }
      ],
      "source": [
        "M_1s_list(x, k, µ, σ, s)"
      ]
    },
    {
      "cell_type": "code",
      "execution_count": null,
      "metadata": {
        "colab": {
          "base_uri": "https://localhost:8080/"
        },
        "id": "RbYfhOCkMc48",
        "outputId": "e10aca74-0456-48df-a1c3-5ea8e1fc933b"
      },
      "outputs": [
        {
          "data": {
            "text/plain": [
              "[array([[ 1.00000000e+00,  3.66666667e+00,  1.34444444e+01,\n",
              "          4.92962963e+01],\n",
              "        [ 1.00000000e+00, -1.00000000e+00,  1.00000000e+00,\n",
              "         -1.00000000e+00],\n",
              "        [ 1.00000000e+00, -3.33333333e-01,  1.11111111e-01,\n",
              "         -3.70370370e-02],\n",
              "        [ 1.00000000e+00,  3.33333333e-01,  1.11111111e-01,\n",
              "          3.70370370e-02]]),\n",
              " array([[ 1.        , -1.66666667,  2.77777778, -4.62962963],\n",
              "        [ 1.        , -1.        ,  1.        , -1.        ],\n",
              "        [ 1.        , -0.33333333,  0.11111111, -0.03703704],\n",
              "        [ 1.        ,  0.33333333,  0.11111111,  0.03703704]])]"
            ]
          },
          "execution_count": 8,
          "metadata": {},
          "output_type": "execute_result"
        }
      ],
      "source": [
        "Ms_first_row(x, k, l)"
      ]
    },
    {
      "cell_type": "markdown",
      "metadata": {
        "id": "iql7zJg8Srlz"
      },
      "source": [
        "# Step 2"
      ]
    },
    {
      "cell_type": "code",
      "execution_count": null,
      "metadata": {
        "id": "O4g3-J2on9w5"
      },
      "outputs": [],
      "source": [
        "def Us_first_row(M_1s) -> RowOfMatrices:\n",
        "  '''the first row of the matrix of shifted and scaled matrices\n",
        "it's what in the text is called U\\'1,i '''\n",
        "  return [linalg.qr(M_1)[0].T for M_1 in M_1s]\n",
        "\n",
        "\n",
        "U_1s_list = Us_first_row"
      ]
    },
    {
      "cell_type": "code",
      "execution_count": null,
      "metadata": {
        "id": "X7PmDJwJXQEN"
      },
      "outputs": [],
      "source": [
        "U_1s = U_1s_list(M_1s)"
      ]
    },
    {
      "cell_type": "code",
      "execution_count": null,
      "metadata": {
        "colab": {
          "base_uri": "https://localhost:8080/"
        },
        "id": "xE-FwzMdXYgm",
        "outputId": "3974c24a-fbb4-4b67-a1af-5291287cf4f4"
      },
      "outputs": [
        {
          "data": {
            "text/plain": [
              "[array([[ 1.00000000e+00, -2.10766226e-16, -2.91335815e-17,\n",
              "          4.18457652e-17],\n",
              "        [-2.10766226e-16,  1.00000000e+00,  2.43492568e-17,\n",
              "          2.44437163e-17],\n",
              "        [-2.91335815e-17,  2.43492568e-17,  1.00000000e+00,\n",
              "         -3.02521951e-17],\n",
              "        [ 4.18457652e-17,  2.44437163e-17, -3.02521951e-17,\n",
              "          1.00000000e+00]]),\n",
              " array([[ 1.00000000e+00, -1.49666486e-16,  4.45046514e-17,\n",
              "         -1.56773574e-16],\n",
              "        [-1.49666486e-16,  1.00000000e+00, -2.83504380e-18,\n",
              "          1.02946037e-16],\n",
              "        [ 4.45046514e-17, -2.83504380e-18,  1.00000000e+00,\n",
              "          5.77269489e-17],\n",
              "        [-1.56773574e-16,  1.02946037e-16,  5.77269489e-17,\n",
              "          1.00000000e+00]])]"
            ]
          },
          "execution_count": 11,
          "metadata": {},
          "output_type": "execute_result"
        }
      ],
      "source": [
        "[U_1_i.T @ U_1_i for U_1_i in U_1s]"
      ]
    },
    {
      "cell_type": "markdown",
      "metadata": {
        "id": "dRLiN6Ny9k0S"
      },
      "source": [
        "# Step 3"
      ]
    },
    {
      "cell_type": "code",
      "execution_count": null,
      "metadata": {
        "id": "xhyqCMNs9kXy"
      },
      "outputs": [],
      "source": [
        "def S_array(k: int, µ: np.float64, σ: np.float64) -> np.ndarray:\n",
        "  return np.array(\n",
        "    [\n",
        "      [binom(j, i)*(-µ)**(j-i)/σ**j for j in range(2*k)]\n",
        "      for i in range(2*k)\n",
        "    ]\n",
        "  )\n",
        "\n",
        "\n",
        "def S1(n: int, k: int, µ: RowsOfMatrices, σ: RowsOfMatrices) -> RowsOfMatrices:\n",
        "  l = int(np.log2(n // k))\n",
        "  return [\n",
        "    [\n",
        "      S_array(\n",
        "        k,\n",
        "        µ=(µ[j][i] - µ[j - 1][2*i])/σ[j - 1][2*i],\n",
        "        σ=σ[j][i]/σ[j - 1][2*i]\n",
        "      )\n",
        "      for i in range(n // (k*2**(j + 1)))\n",
        "    ]\n",
        "    for j in range(1, l)\n",
        "  ]\n",
        "\n",
        "\n",
        "def S2(n: int, k: int, µ: RowsOfMatrices, σ: RowsOfMatrices) -> RowsOfMatrices:\n",
        "  l = int(np.log2(n // k))\n",
        "  return [\n",
        "    [\n",
        "      S_array(\n",
        "          k,\n",
        "          µ=(µ[j][i] - µ[j - 1][2*i + 1])/σ[j - 1][2*i + 1],\n",
        "          σ=σ[j][i]/σ[j - 1][2*i + 1]\n",
        "      )\n",
        "      for i in range(n // (k*2**(j + 1)))\n",
        "    ]\n",
        "    for j in range(1, l)\n",
        "  ]"
      ]
    },
    {
      "cell_type": "code",
      "execution_count": null,
      "metadata": {
        "id": "TPXZU8c--6gU"
      },
      "outputs": [],
      "source": []
    }
  ],
  "metadata": {
    "colab": {
      "collapsed_sections": [],
      "provenance": []
    },
    "kernelspec": {
      "display_name": "Python 3.8.10 ('multiwavelets': venv)",
      "language": "python",
      "name": "python3"
    },
    "language_info": {
      "name": "python",
      "version": "3.8.10"
    },
    "vscode": {
      "interpreter": {
        "hash": "8b67e2f8a13b5ce4b782667e3c26c8574f66ca0734e567371a0095a512d79b28"
      }
    }
  },
  "nbformat": 4,
  "nbformat_minor": 0
}
