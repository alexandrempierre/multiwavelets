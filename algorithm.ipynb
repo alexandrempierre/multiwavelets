{
 "cells": [
  {
   "cell_type": "code",
   "execution_count": 5,
   "metadata": {},
   "outputs": [],
   "source": [
    "import numpy as np\n",
    "from scipy import linalg\n",
    "from scipy import special\n",
    "from matplotlib import pyplot as plt\n",
    "\n",
    "from copy import deepcopy\n",
    "\n",
    "from functools import reduce"
   ]
  },
  {
   "cell_type": "markdown",
   "metadata": {},
   "source": [
    "##### **Procedure to compute** $U_1, \\dots, U_l$\n",
    "\n",
    "**Comment** \\[Input to this procedure consists of the number of points $n$, the number of zero moments $k$, and the points $x_1, \\dots, x_n$. Output is the matrices $U_{j,i}$ for $j = 1, \\dots, l$ and $\\displaystyle i = l, \\dots, \\frac{n}{2^jk}$, which make up the matrices $U_1, \\dots, U_l$ (note $\\displaystyle l = \\log_2 \\left( \\frac{n}{k} \\right)$).\\]"
   ]
  },
  {
   "cell_type": "markdown",
   "metadata": {},
   "source": [
    "<h5 style=\"text-align: center; font-weight: bold;\"> Step 1. </h5>\n",
    "\n",
    "Compute the shifted and scaled moments matrices $M'_{1,i}$ for $\\displaystyle i = 1, \\dots, \\frac{n}{2k}$."
   ]
  },
  {
   "cell_type": "code",
   "execution_count": null,
   "metadata": {},
   "outputs": [],
   "source": [
    "# In text:\n",
    "# j = 1, ..., l\n",
    "# i = 1, ..., n/(2^j*k)\n",
    "\n",
    "# In this cell:\n",
    "# j = 0, ..., l-1\n",
    "# i = 0, ..., n/(2^j*k)-1\n",
    "\n",
    "def mu_builder (xs, k):\n",
    "    def mu (j, i):\n",
    "        return ( xs[ 1+2**j*k*i ] + xs[ 2**j*k*(i+1) ] ) / 2\n",
    "    \n",
    "    return mu\n",
    "\n",
    "def sigma_builder (xs, k):\n",
    "    def sigma (j, i):\n",
    "        return ( xs[ 2**j*k*(i+1) ] - xs[1 + 2**j*k*i] ) / 2\n",
    "    \n",
    "    return sigma\n",
    "\n",
    "def s_builder (k):\n",
    "    def s (i):\n",
    "        return 2*k*i\n",
    "    \n",
    "    return s"
   ]
  },
  {
   "cell_type": "code",
   "execution_count": null,
   "metadata": {},
   "outputs": [],
   "source": [
    "def shifted_scaled_matrices (xs, k, l): # M\n",
    "    n = len(xs)\n",
    "    assert n % (2*k) == 0\n",
    "    \n",
    "    mu_function = mu_builder(xs, k)\n",
    "    sigma_function = sigma_builder(xs, k)\n",
    "    s_function = s_builder(k)\n",
    "    \n",
    "    Ms = []\n",
    "    for i in range(n//(2*k)): # matrices loop\n",
    "        mu = mu_function(1, i)\n",
    "        sigma = sigma_function(1, i)\n",
    "        s = s_function(i)\n",
    "        \n",
    "        M = np.ones((2*k,2*k))\n",
    "        for r in range(2*k): # rows loop\n",
    "            for c in range(1,2*k): # entries loop\n",
    "                M[r,c] = (xs[s + i] - mu) / sigma\n",
    "        \n",
    "        Ms.append( deepcopy(M) )\n",
    "    \n",
    "    return Ms"
   ]
  },
  {
   "cell_type": "markdown",
   "metadata": {},
   "source": [
    "<h5 style=\"text-align: center; font-weight: bold;\">Step 2.</h5>\n",
    "\n",
    "Compute $U_{1,i}$ from $M'_{1,i}$ by Eq. (4.11) using Gram-Schmidt (?) orthogonalization for $i = 1,\\dots, \\frac{n}{2k}$."
   ]
  },
  {
   "cell_type": "code",
   "execution_count": null,
   "metadata": {},
   "outputs": [],
   "source": [
    "def U_j_i (M_j_i):\n",
    "    return linalg.qr(M_j_i).pop(0).T"
   ]
  },
  {
   "cell_type": "markdown",
   "metadata": {},
   "source": [
    "<h5 style=\"text-align: center; font-weight: bold;\">Step 3.</h5>\n",
    "\n",
    "**Comment** \\[Compute $M'_{j,i}$ and $U_{j,i}$ for $j = 2, \\dots, l$ and $\\displaystyle i = 1, \\dots, \\frac{n}{2^jk}$\\.]\n",
    "\n",
    "<!-- Seja M uma matriz m x n, M^U é a matriz m/2 x n formada pelas m/2 primeiras linhas de M -->\n",
    "<!-- Seja M uma matriz m x n, M^L é a matriz m/2 x n formada pelas m/2 últimas linhas de M -->\n",
    "\n",
    "<img src=\"step-3_algorithm.jpg\">\n",
    "\n",
    "<!--\n",
    "```\n",
    "do j = 2, ..., l\n",
    "    do i = 1, ..., n/(2^j*k)\n",
    "        Compute U_j-1,2i-1^U M'_j-1,2i-1 and U_j-1,2i^U M'_j-1,2i.\n",
    "        Compute S^1_j,i by Eq. (4.16) and S^2_j,i by Eq. (4.17);\n",
    "            multiply to obtain M'_j,i by Eq. (4.13).\n",
    "        Orthogonalize M'_j,i to obtain U_j,i by Eq. (4.11).\n",
    "    enddo\n",
    "enddo\n",
    "```\n",
    "-->"
   ]
  },
  {
   "cell_type": "code",
   "execution_count": null,
   "metadata": {},
   "outputs": [],
   "source": [
    "def upper_half_rows (matrix):\n",
    "    # checks if there's an even number of rows\n",
    "    rows = matrix.shape[0]\n",
    "    assert rows % 2 == 0\n",
    "    \n",
    "    return matrix[:rows//2, :]\n",
    "\n",
    "def lower_half_rows (matrix):\n",
    "    # checks if there's an even number of rows\n",
    "    rows = matrix.shape[0]\n",
    "    assert rows % 2 == 0\n",
    "    \n",
    "    return matrix[rows//2:, :]"
   ]
  },
  {
   "cell_type": "code",
   "execution_count": null,
   "metadata": {},
   "outputs": [],
   "source": [
    "def shift_scale_matrix_entry (mu, sigma, i, j):\n",
    "    return special.binom(j, i)*(-mu)**(j-i)/sigma**(j)\n",
    "\n",
    "def shift_scale_matrix_builder (xs, k):\n",
    "    def shift_scale_matrix (mu, sigma):\n",
    "        return [ [ shift_scale_matrix_entry(mu, sigma, i, j) for j in range(2*k) ] for i in range(2*k) ]\n",
    "    \n",
    "    return\n",
    "\n",
    "def S_1_builder (xs, k, mu=None, sigma=None):\n",
    "    if mu is None:\n",
    "        mu = mu_builder(xs, k)\n",
    "    \n",
    "    if sigma is None:\n",
    "        sigma = sigma_builder(xs, k)\n",
    "    \n",
    "    S = shift_scale_matrix_builder(xs, k)\n",
    "    \n",
    "    def S_1 (j, i):\n",
    "        # this indices (j, i) are not the entries of the matrix\n",
    "        # instead those denote a matrix in a collections of matrices\n",
    "        m = (mu(j, i) - mu(j-1, 2*i-1)) / sigma(j-1, 2*i-1)\n",
    "        s = sigma(j, i) / sigma(j-1, 2*i-1)\n",
    "        return S(m, s)\n",
    "    \n",
    "    return S_1\n",
    "\n",
    "def S_2_builder (xs, k, mu=None, sigma=None):\n",
    "    if mu is None:\n",
    "        mu = mu_builder(xs, k)\n",
    "    \n",
    "    if sigma is None:\n",
    "        sigma = sigma_builder(xs, k)\n",
    "    \n",
    "    S = S_builder(xs, k)\n",
    "    \n",
    "    def S_2 (j, i):\n",
    "        m = (mu(j, i) - mu(j-1, 2*i)) / sigma(j-1, 2*i)\n",
    "        s = sigma(j, i) / sigma(j-1, 2*i)\n",
    "        return S(m, s)\n",
    "    \n",
    "    return S_2"
   ]
  },
  {
   "cell_type": "code",
   "execution_count": null,
   "metadata": {},
   "outputs": [],
   "source": [
    "def orth_moments_matrices_builder (xs, k):\n",
    "    n = len(xs)\n",
    "    assert n % (2*k) == 0\n",
    "    \n",
    "    l = int( np.log2(n/k) )\n",
    "    \n",
    "    mu = mu_builder(xs, k)\n",
    "    sigma = sigma_builder(xs, k)\n",
    "    \n",
    "    S_1 = S_1_builder(xs, k, mu=mu, sigma=sigma)\n",
    "    S_2 = S_2_builder(xs, k, mu=mu, sigma=sigma)\n",
    "    \n",
    "    def onth_moments_matrices (M_1s):\n",
    "        Ms_prev = deepcopy(M_1s)\n",
    "        Us = []\n",
    "        for j in range(1,l):\n",
    "            Ms_current = []\n",
    "            Us.append([])\n",
    "            Us[j-1] += [ U_j_i(M) for M in Ms_prev ]\n",
    "            \n",
    "            for i in range(n//(2**j*k)):\n",
    "                M_upper_half = upper_half_rows( U[j-1][2*i] ) @ Ms_prev[2*i] @ S_1(j,i)\n",
    "                M_lower_half = upper_half_rows( U[j-1][2*i+1] ) @ Ms_prev[2*i+1] @ S_2(j,i)\n",
    "                \n",
    "                rows, columns = M_upper_half.shape\n",
    "                M_j_i = np.emtpy((2*rows, columns))\n",
    "                M_j_i[:rows] = M_upper_half\n",
    "                M_j_i[rows:] = M_lower_half\n",
    "                \n",
    "                Ms_current.append(deepcopy(M_j_i))\n",
    "            \n",
    "            Ms_prev = deepcopy(Ms_current)\n",
    "        \n",
    "        return Us\n",
    "    \n",
    "    return orth_moments_matrices"
   ]
  },
  {
   "cell_type": "code",
   "execution_count": null,
   "metadata": {},
   "outputs": [],
   "source": [
    "# def base_matrices_builder"
   ]
  },
  {
   "cell_type": "markdown",
   "metadata": {},
   "source": [
    "##### **Procedure to compute** $UTU^T$\n",
    "\n",
    "**Comment** [Input to this procedure consists of $n, k$, the matrices $U_{j,i}$ computed above, a function to compute elements of $T$, and the chosen precision $\\varepsilon$. Output is a matrix $R_l$ such that $\\lVert R_l - UTU^T \\rVert \\lt \\varepsilon \\lVert T \\rVert $.]\n",
    "\n",
    "<h5 style=\"text-align: center; font-weight: bold;\">Step 4.</h5>\n",
    "\n",
    "Compute the $k \\times k$ extracts, indicated by Eq. (4.18), of the submatrices of $T$ shown in Fig. 4.4.\n",
    "\n",
    "<img src=\"fig_4.4.jpg\" style=\"width: 70%;\">"
   ]
  },
  {
   "cell_type": "code",
   "execution_count": null,
   "metadata": {},
   "outputs": [],
   "source": [
    "# calculate matrix T, K is a kernel function with 2 arguments\n",
    "def trapezoidal_matrix (xs, K):\n",
    "    n = len(xs)\n",
    "    \n",
    "    return np.array(\n",
    "        [\n",
    "            [ 0 if i == j else K(x_i, x_j)/(n-1) for j,x_j in enumerate(xs) ] \n",
    "            for i,x_i in enumerate(xs) \n",
    "        ]\n",
    "    )"
   ]
  },
  {
   "cell_type": "code",
   "execution_count": null,
   "metadata": {},
   "outputs": [],
   "source": [
    "def extract_symmetric_block_diag (M, index, block_size):\n",
    "    assert isinstance(M, np.ndarray)\n",
    "  \n",
    "    rows, columns = M.shape\n",
    "    assert rows == columns\n",
    "\n",
    "    size = rows\n",
    "    assert size >= index+block_size\n",
    "\n",
    "    N = deepcopy(M)\n",
    "    R = np.zeros_like(N)\n",
    "\n",
    "    for j in range(index, size, block_size):\n",
    "        i = j-index\n",
    "        R[i:i+block_size, j:j+block_size] = N[i:i+block_size, j:j+block_size]\n",
    "        N[i:i+block_size, j:j+block_size] = np.zeros( (block_size, block_size) )\n",
    "\n",
    "        if i != j:\n",
    "            R[j:j+block_size, i:i+block_size] = N[j:j+block_size, i:i+block_size]\n",
    "            N[j:j+block_size, i:i+block_size] = np.zeros( (block_size, block_size) )\n",
    "  \n",
    "    return N, R"
   ]
  },
  {
   "cell_type": "code",
   "execution_count": null,
   "metadata": {},
   "outputs": [],
   "source": []
  },
  {
   "cell_type": "markdown",
   "metadata": {},
   "source": [
    "__Alexandre:__ This \"either\" in the image below may be wrong, probably the only right option is suplying a column to start in. The `extract_symmetric_block_diag()` function receives a matrix and outputs two matrices: \n",
    "\n",
    "* the first one is the original with zeros in the places from where the submatrices were extracted; \n",
    "* the second is the the matrix of the extracted submatrices\n",
    "\n",
    "<img src=\"sym-block-diag.jpg\" style=\"text-align:center\" />"
   ]
  },
  {
   "cell_type": "code",
   "execution_count": null,
   "metadata": {},
   "outputs": [],
   "source": [
    "def submatrices_T (T, k, l):\n",
    "    n = T.shape[0]\n",
    "\n",
    "    block_sizes = ( 2**i*k for i in range(l-2,0,-1) )\n",
    "\n",
    "    Ts = []\n",
    "\n",
    "    T_0 = deepcopy(T)\n",
    "    T_i = np.zeros_like(T_0)\n",
    "    start_index = n\n",
    "    \n",
    "    for block_size in block_sizes:\n",
    "        start_index -= block_size\n",
    "        T_0, T_i_0 = extract_symmetric_block_diag(T_0, start_index, block_size)\n",
    "\n",
    "        start_index -= block_size\n",
    "        T_0, T_i_1 = extract_symmetric_block_diag(T_0, start_index, block_size)\n",
    "\n",
    "        T_i = T_i_0 + T_i_1\n",
    "        Ts = [deepcopy(T_i)] + Ts\n",
    "\n",
    "    return [T_0] + Ts"
   ]
  },
  {
   "cell_type": "code",
   "execution_count": null,
   "metadata": {},
   "outputs": [],
   "source": [
    "def extract_from_T_matrices (Ts, k):\n",
    "    n = Ts[0].shape[0]\n",
    "    \n",
    "    start = n // k #- 1\n",
    "    return [ T[start::k, start::k] for T in Ts ]"
   ]
  },
  {
   "cell_type": "markdown",
   "metadata": {},
   "source": [
    "<h5 style=\"text-align: center; font-weight: bold;\">Step 5.</h5>\n",
    "\n",
    "Extract the matrices $P''$ (Eq. (4.19)) from $U_1, U_2U_1, \\dots, U_l \\dots U_1$ and compute $W_0, \\dots, W_{l-2}$ according to Eqs. (4.20)."
   ]
  },
  {
   "cell_type": "code",
   "execution_count": null,
   "metadata": {},
   "outputs": [],
   "source": [
    "def extract_P (Us, k):\n",
    "    n = Us[0].shape[0]\n",
    "    I = np.eye(n)\n",
    "    \n",
    "    P_1s = [ reduce(np.dot, Us[:i], I) for i,U in enumerate(Us, 1) ]\n",
    "    P_2s = []\n",
    "    \n",
    "    for P_1_i in P_1s:\n",
    "        pass\n",
    "    \n",
    "    return"
   ]
  },
  {
   "cell_type": "markdown",
   "metadata": {},
   "source": [
    "<h5 style=\"text-align: center; font-weight: bold;\">Step 6.</h5>\n",
    "\n",
    "Compute $R_0, \\dots, R_l$ by Eq. (4.21), discarding elements below a threshold $\\tau$ determined by the precision $\\varepsilon$ (Eq. (4.22))"
   ]
  },
  {
   "cell_type": "code",
   "execution_count": null,
   "metadata": {},
   "outputs": [],
   "source": []
  },
  {
   "cell_type": "markdown",
   "metadata": {},
   "source": [
    "##### **Procedure to compute** $UT^{-1}U^T$\n",
    "\n",
    "**Comment** \\[Input to this procedure consists of n the matrix $R_l$ which approximates $UTU^T$, and the precision $\\varepsilon$. Output is a matrix $X_m$ that approximates $UT^{-1}U^T$.\\]\n",
    "\n",
    "<h5 style=\"text-align: center; font-weight: bold;\">Step 7.</h5>\n",
    "\n",
    "Compute the matrix $\\displaystyle X_0 = \\frac{R_l T R_l}{\\lVert R_l T R_l \\rVert}$ by direct matrix multiplication, discarding elements below a threshold $\\tau$ determined by the precision $\\varepsilon$ (Eq. (4.22))"
   ]
  },
  {
   "cell_type": "code",
   "execution_count": null,
   "metadata": {},
   "outputs": [],
   "source": []
  },
  {
   "cell_type": "markdown",
   "metadata": {},
   "source": [
    "<h5 style=\"text-align: center; font-weight: bold;\">Step 8.</h5>\n",
    "\n",
    "**Comment** \\[Obtain the inverse by Schulz iteration.\\]\n",
    "\n",
    "```\n",
    "do m = 0, 1, ... while ||I - X_m R_l|| > epsilon\n",
    "    Compute X_m+1 = 2 X_m - X_m R_l X_m, discarding elements below threshold\n",
    "enddo\n",
    "```"
   ]
  },
  {
   "cell_type": "code",
   "execution_count": null,
   "metadata": {},
   "outputs": [],
   "source": []
  }
 ],
 "metadata": {
  "kernelspec": {
   "display_name": "Python 3",
   "language": "python",
   "name": "python3"
  },
  "language_info": {
   "codemirror_mode": {
    "name": "ipython",
    "version": 3
   },
   "file_extension": ".py",
   "mimetype": "text/x-python",
   "name": "python",
   "nbconvert_exporter": "python",
   "pygments_lexer": "ipython3",
   "version": "3.7.6"
  }
 },
 "nbformat": 4,
 "nbformat_minor": 4
}
