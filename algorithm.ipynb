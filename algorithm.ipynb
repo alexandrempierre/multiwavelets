{
 "cells": [
  {
   "cell_type": "code",
   "execution_count": 1,
   "metadata": {},
   "outputs": [],
   "source": [
    "import numpy as np\n",
    "from scipy import linalg\n",
    "from scipy import special\n",
    "from scipy import sparse\n",
    "from matplotlib import pyplot as plt\n",
    "\n",
    "from copy import deepcopy\n",
    "\n",
    "from functools import reduce"
   ]
  },
  {
   "cell_type": "code",
   "execution_count": 2,
   "metadata": {},
   "outputs": [],
   "source": [
    "import unittest\n",
    "import sys"
   ]
  },
  {
   "cell_type": "markdown",
   "metadata": {},
   "source": [
    "##### **Procedure to compute** $U_1, \\dots, U_l$\n",
    "\n",
    "**Comment** \\[Input to this procedure consists of the number of points $n$, the number of zero moments $k$, and the points $x_1, \\dots, x_n$. Output is the matrices $U_{j,i}$ for $j = 1, \\dots, l$ and $\\displaystyle i = l, \\dots, \\frac{n}{2^jk}$, which make up the matrices $U_1, \\dots, U_l$ (note $\\displaystyle l = \\log_2 \\left( \\frac{n}{k} \\right)$).\\]"
   ]
  },
  {
   "cell_type": "markdown",
   "metadata": {},
   "source": [
    "<h5 style=\"text-align: center; font-weight: bold;\"> Step 1. </h5>\n",
    "\n",
    "Compute the shifted and scaled moments matrices $M'_{1,i}$ for $\\displaystyle i = 1, \\dots, \\frac{n}{2k}$."
   ]
  },
  {
   "cell_type": "markdown",
   "metadata": {},
   "source": [
    "__Alexandre Comment:__\n",
    "\n",
    "* In the text $j$ ranges from $1$ to $l$, in the code it'll range from $0$ to $l-1$.\n",
    "* In the text $i$ ranges from $1$ to $\\displaystyle \\frac{n}{k 2^j}$, in the code it'll range from $0$ to $\\displaystyle \\frac{n}{k 2^j} - 1$.\n",
    "* There's a compensation for the fact that - besides $i$ and $j$ starting in $0$ instead of $1$ - `xs` is indexed starting in $0$."
   ]
  },
  {
   "cell_type": "markdown",
   "metadata": {},
   "source": [
    "##### Formulae for step 1:\n",
    "\n",
    "| Symbol   | Text definition &nbsp; &nbsp; &nbsp; &nbsp; &nbsp; &nbsp; &nbsp; &nbsp; &nbsp; &nbsp; &nbsp; &nbsp; &nbsp; | Implementation &nbsp; &nbsp; &nbsp; &nbsp; &nbsp; &nbsp; &nbsp; &nbsp; &nbsp; &nbsp; &nbsp; &nbsp; &nbsp; &nbsp;|\n",
    "|:---------|:---------------------------------------------------|:---------------------------------------------------------------|\n",
    "| $\\mu$    | $\\mu_{j,i} = x_{1 + (i-1) k 2^j} + x_{i k 2^j}$    | $\\mu_{j,i} = x_{i k 2^{(j+1)}} + x_{(i+1) k 2^{(j+1)} - 1}$    |\n",
    "| $\\sigma$ | $\\sigma_{j,i} = x_{i k 2^j} - x_{1 + (i-1) k 2^j}$ | $\\sigma_{j,i} = x_{(i+1) k 2^{(j+1)} - 1} - x_{i k 2^{(j+1)}}$ |\n",
    "| $s$      | $s_i = (i-1) 2k$                                   | $s_i = i 2 k$                                                  |"
   ]
  },
  {
   "cell_type": "markdown",
   "metadata": {},
   "source": [
    "##### What about the `_builder()` functions?\n",
    "\n",
    "__Short version:__ I'm trying to respect the D.R.Y. (Don't Repeat Yourself) principle when passing the arguments.\n",
    "\n",
    "__Complementing the short version:__ it's easy to write higher order functions in Python and I wanted the function calls to look like the text as much as possible. But I wanted other two features to my code, besides being readable:\n",
    "1. it should avoid side effects (it helps to look more mathematical)\n",
    "2. neither \"mathematicality\" nor readability should be given up for the sake of the other"
   ]
  },
  {
   "cell_type": "code",
   "execution_count": 3,
   "metadata": {},
   "outputs": [],
   "source": [
    "def mu_builder (xs, k):\n",
    "    def mu (j, i):\n",
    "        idx = ( i*k*2**(j+1), (i+1)*k*2**(j+1)-1 )\n",
    "        return ( xs[ idx[0] ] + xs[ idx[1] ] ) / 2\n",
    "    \n",
    "    return mu\n",
    "\n",
    "def sigma_builder (xs, k):\n",
    "    def sigma (j, i):\n",
    "        idx = ( (i+1)*k*2**(j+1)-1, i*k*2**(j+1) )\n",
    "        return ( xs[ idx[0] ] - xs[ idx[1] ] ) / 2\n",
    "    \n",
    "    return sigma\n",
    "\n",
    "def s_builder (k):\n",
    "    def s (i):\n",
    "        return i*2*k\n",
    "    \n",
    "    return s"
   ]
  },
  {
   "cell_type": "code",
   "execution_count": 4,
   "metadata": {},
   "outputs": [],
   "source": [
    "def shifted_scaled_matrices (xs, k, l): # M'0,i\n",
    "    '''First row of the matrix of shifted scaled moments matrices'''\n",
    "    n = len(xs)\n",
    "    assert n % (2*k) == 0\n",
    "    \n",
    "    mu = mu_builder(xs, k)\n",
    "    sigma = sigma_builder(xs, k)\n",
    "    s = s_builder(k)\n",
    "    \n",
    "    Ms = []\n",
    "    for i in range(n//(2*k)): # matrices loop\n",
    "        s_i = s(i)\n",
    "        mu_0_i = mu(0,i)\n",
    "        sigma_0_i = sigma(0,i)\n",
    "        \n",
    "        M = np.ones((2*k,2*k))\n",
    "        for r in range(2*k): # rows loop\n",
    "            for c in range(1,2*k): # entries loop\n",
    "                M[r,c] = ( (xs[s_i + r] - mu_0_i) / sigma_0_i )**c\n",
    "        \n",
    "        Ms.append( deepcopy(M) )\n",
    "    \n",
    "    return Ms"
   ]
  },
  {
   "cell_type": "markdown",
   "metadata": {},
   "source": [
    "<h5 style=\"text-align: center; font-weight: bold;\">Step 2.</h5>\n",
    "\n",
    "Compute $U_{1,i}$ from $M'_{1,i}$ by Eq. (4.11) using Gram-Schmidt (?) orthogonalization for $i = 1,\\dots, \\frac{n}{2k}$."
   ]
  },
  {
   "cell_type": "code",
   "execution_count": 5,
   "metadata": {},
   "outputs": [],
   "source": [
    "def U_j_i (M_j_i):\n",
    "    return linalg.qr(M_j_i)[0].T"
   ]
  },
  {
   "cell_type": "markdown",
   "metadata": {},
   "source": [
    "<h5 style=\"text-align: center; font-weight: bold;\">Step 3.</h5>\n",
    "\n",
    "**Comment** \\[Compute $M'_{j,i}$ and $U_{j,i}$ for $j = 2, \\dots, l$ and $\\displaystyle i = 1, \\dots, \\frac{n}{2^jk}$\\.]\n",
    "\n",
    "<!-- Seja M uma matriz m x n, M^U é a matriz m/2 x n formada pelas m/2 primeiras linhas de M -->\n",
    "<!-- Seja M uma matriz m x n, M^L é a matriz m/2 x n formada pelas m/2 últimas linhas de M -->\n",
    "\n",
    "<img src=\"step-3_algorithm.jpg\">\n",
    "\n",
    "<!--\n",
    "```\n",
    "do j = 2, ..., l\n",
    "    do i = 1, ..., n/(2^j*k)\n",
    "        Compute U_j-1,2i-1^U M'_j-1,2i-1 and U_j-1,2i^U M'_j-1,2i.\n",
    "        Compute S^1_j,i by Eq. (4.16) and S^2_j,i by Eq. (4.17);\n",
    "            multiply to obtain M'_j,i by Eq. (4.13).\n",
    "        Orthogonalize M'_j,i to obtain U_j,i by Eq. (4.11).\n",
    "    enddo\n",
    "enddo\n",
    "```\n",
    "-->"
   ]
  },
  {
   "cell_type": "code",
   "execution_count": 6,
   "metadata": {},
   "outputs": [],
   "source": [
    "def upper_half_rows (matrix):\n",
    "    rows = matrix.shape[0] # checks if there's an even number of rows\n",
    "    assert rows % 2 == 0\n",
    "    \n",
    "    return matrix[:rows//2, :]\n",
    "\n",
    "def lower_half_rows (matrix):\n",
    "    rows = matrix.shape[0] # checks if there's an even number of rows\n",
    "    assert rows % 2 == 0\n",
    "    \n",
    "    return matrix[rows//2:, :]"
   ]
  },
  {
   "cell_type": "markdown",
   "metadata": {},
   "source": [
    "__Alexandre Comment:__\n",
    "\n",
    "It's necessary to make some compensations to the indices for defining $S^1_{j,i}$ and $S^2_{j,i}$. I've observed that: \n",
    "1. the $j$ index starts at the second possible position; and \n",
    "2. the $i$ index iterate through all possible indices.\n",
    "\n",
    "The way I've written the functions for $\\mu$ and $\\sigma$ require some adaptions to make the $i$ index start where it should, even though I'm starting at $0$ instead of $1$. My solutions for this problem are resumed in the table below.\n",
    "\n",
    "##### Formulae for $S^1$ and $S^2$:\n",
    "\n",
    "| Symbol   | Text definition &nbsp; &nbsp; &nbsp; &nbsp; &nbsp; &nbsp; &nbsp; &nbsp; &nbsp; &nbsp; &nbsp; &nbsp; &nbsp; &nbsp; &nbsp; &nbsp; &nbsp; &nbsp; &nbsp; &nbsp; &nbsp; &nbsp; &nbsp; &nbsp; &nbsp;| Implementation &nbsp; &nbsp; &nbsp; &nbsp; &nbsp; &nbsp; &nbsp; &nbsp; &nbsp; &nbsp; &nbsp; &nbsp; &nbsp; &nbsp; &nbsp; &nbsp; &nbsp; &nbsp; &nbsp; &nbsp; &nbsp; &nbsp; &nbsp; &nbsp; &nbsp; &nbsp;|\n",
    "|:---------|:---------------------------------------------------|:---------------------------------------------------------------|\n",
    "| $S^1$ | $\\displaystyle S^1_{j,i} = S \\biggl( \\biggl( \\frac{\\mu_{j,i} - \\mu_{j-1,2i-1}}{\\sigma_{j-1,2i-1}} \\biggr), \\frac{\\sigma_{j,i}}{\\sigma_{j-1,2i-1}} \\biggr)$ | $\\displaystyle S^1_{j,i} = S \\biggl( \\biggl( \\frac{\\mu_{j,i} - \\mu_{j-1,2i}}{\\sigma_{j-1,2i}} \\biggr), \\frac{\\sigma_{j,i}}{\\sigma_{j-1,2i}} \\biggr)$ |\n",
    "| $S^2$ | $\\displaystyle S^2_{j,i} = S \\biggl( \\biggl( \\frac{\\mu_{j,i} - \\mu_{j-1,2i}}{\\sigma_{j-1,2i}} \\biggr), \\frac{\\sigma_{j,i}}{\\sigma_{j-1,2i}} \\biggr)$ | $\\displaystyle S^2_{j,i} = S \\biggl( \\biggl( \\frac{\\mu_{j,i} - \\mu_{j-1,2i+1}}{\\sigma_{j-1,2i+1}} \\biggr), \\frac{\\sigma_{j,i}}{\\sigma_{j-1,2i+1}} \\biggr)$ |"
   ]
  },
  {
   "cell_type": "code",
   "execution_count": 7,
   "metadata": {},
   "outputs": [],
   "source": [
    "def shift_scale_matrix_builder (xs, k):\n",
    "    def shift_scale_matrix (mu_value, sigma_value): # S(μ,σ)\n",
    "        return np.array([\n",
    "            [ special.binom(j, i)*(-mu_value)**(j-i)/sigma_value**j for j in range(2*k) ] for i in range(2*k)\n",
    "        ])\n",
    "    \n",
    "    return shift_scale_matrix\n",
    "\n",
    "def shift_scale_upper_builder (xs, k, mu=None, sigma=None):\n",
    "    '''Builder function shift-scale matrix (S¹) for the upper half of the M' matrix'''\n",
    "    if mu is None:\n",
    "        mu = mu_builder(xs, k)\n",
    "    \n",
    "    if sigma is None:\n",
    "        sigma = sigma_builder(xs, k)\n",
    "    \n",
    "    S = shift_scale_matrix_builder(xs, k)\n",
    "    \n",
    "    def shift_scale_upper (j, i):\n",
    "        '''Shift-scale (S¹) matrix for the upper half of the M' matrix'''\n",
    "        # this indices (j, i) are not the entries of the matrix\n",
    "        # instead those denote a matrix in a bidimensional collection of matrices\n",
    "        m = (mu(j, i) - mu(j-1, 2*i)) / sigma(j-1, 2*i)\n",
    "        s = sigma(j, i) / sigma(j-1, 2*i)\n",
    "        \n",
    "        return S(m, s)\n",
    "    \n",
    "    return shift_scale_upper\n",
    "\n",
    "def shift_scale_lower_builder (xs, k, mu=None, sigma=None):\n",
    "    '''Builder function shift-scale matrix (S²) for the lower half of the M' matrix'''\n",
    "    if mu is None:\n",
    "        mu = mu_builder(xs, k)\n",
    "    \n",
    "    if sigma is None:\n",
    "        sigma = sigma_builder(xs, k)\n",
    "    \n",
    "    S = shift_scale_matrix_builder(xs, k)\n",
    "    \n",
    "    def shift_scale_lower (j, i):\n",
    "        '''Shift-scale matrix (S²) for the lower half of the M' matrix'''\n",
    "        # this indices (j, i) are not the entries of the matrix\n",
    "        # instead those denote a matrix in a bidimensional collection of matrices\n",
    "        m = (mu(j, i) - mu(j-1, 2*i+1)) / sigma(j-1, 2*i+1)\n",
    "        s = sigma(j, i) / sigma(j-1, 2*i+1)\n",
    "        \n",
    "        return S(m, s)\n",
    "    \n",
    "    return shift_scale_lower"
   ]
  },
  {
   "cell_type": "code",
   "execution_count": 8,
   "metadata": {},
   "outputs": [],
   "source": [
    "def n_j_builder (n, k):\n",
    "    def n_j (j):\n",
    "        return n // (2**(j+1)*k)\n",
    "    \n",
    "    return n_j"
   ]
  },
  {
   "cell_type": "code",
   "execution_count": 9,
   "metadata": {},
   "outputs": [],
   "source": [
    "def orth_moments_matrices_builder (xs, k): # all Uj,i\n",
    "    n = len(xs)\n",
    "    assert n % (2*k) == 0\n",
    "    \n",
    "    l = int( np.log2(n/k) )\n",
    "    \n",
    "    mu = mu_builder(xs, k)\n",
    "    sigma = sigma_builder(xs, k)\n",
    "    \n",
    "    S_1 = shift_scale_upper_builder(xs, k, mu=mu, sigma=sigma)\n",
    "    S_2 = shift_scale_lower_builder(xs, k, mu=mu, sigma=sigma)\n",
    "    \n",
    "    n_ = n_j_builder(n, k)\n",
    "    \n",
    "    def orth_moments_matrices (M_1s):\n",
    "        Ms_prev = deepcopy(M_1s)\n",
    "        Us = [ [ linalg.qr(M)[0].T for M in Ms_prev ] ]\n",
    "        for j in range(1,l):\n",
    "            nj = n_(j)\n",
    "            Ms_current = []\n",
    "            Us.append([])\n",
    "            \n",
    "            for i in range( nj ):\n",
    "                M_upper_half = upper_half_rows( Us[j-1][2*i] ) @ Ms_prev[2*i] @ S_1(j,i)\n",
    "                M_lower_half = upper_half_rows( Us[j-1][2*i+1] ) @ Ms_prev[2*i+1] @ S_2(j,i)\n",
    "                \n",
    "                rows, columns = M_upper_half.shape\n",
    "                \n",
    "                M = np.empty( (2*rows, columns) )\n",
    "                M[:rows, :] = M_upper_half\n",
    "                M[rows:, :] = M_lower_half\n",
    "                \n",
    "                Ms_current.append( deepcopy(M) )\n",
    "            \n",
    "            Us[j] += [ linalg.qr(M)[0].T for M in Ms_current ]\n",
    "        \n",
    "        return Us\n",
    "    \n",
    "    return orth_moments_matrices"
   ]
  },
  {
   "cell_type": "code",
   "execution_count": 10,
   "metadata": {},
   "outputs": [],
   "source": [
    "def basis_matrices_builder (n, k, l): # U_j\n",
    "    n_ = n_j_builder(n, k)\n",
    "    \n",
    "    def basis_matrix (U_j_is, j):\n",
    "        U = U_j_is\n",
    "        nj = n_(j)\n",
    "        U_prime_j = np.zeros( (2*k*nj, 2*k*nj) )\n",
    "        \n",
    "        for i in range(nj):\n",
    "            row, row_next = i*k, (i + 1)*k\n",
    "            col, col_next = 2*row, 2*row_next\n",
    "            \n",
    "            U_prime_j[row:row_next, col:col_next] = lower_half_rows(U[j][i])\n",
    "            \n",
    "            row, row_next = row + n//2**(j+1), row_next + n//2**(j+1)\n",
    "            \n",
    "            U_prime_j[row:row_next, col:col_next] = upper_half_rows(U[j][i])\n",
    "        \n",
    "        if j == 0:\n",
    "            Uj = U_prime_j\n",
    "        else:\n",
    "            Uj = np.zeros((n,n))\n",
    "            Uj[:n-n//2**j, :n-n//2**j] = np.eye(n-n//2**j)\n",
    "            Uj[n-n//2**j:, n-n//2**j:] = U_prime_j\n",
    "        \n",
    "        return sparse.lil_matrix(Uj)\n",
    "    \n",
    "    def basis_matrices (U_j_is):\n",
    "        return [ basis_matrix(U_j_is, j) for j in range(l) ]\n",
    "    \n",
    "    return basis_matrices"
   ]
  },
  {
   "cell_type": "code",
   "execution_count": 11,
   "metadata": {},
   "outputs": [],
   "source": [
    "# def basis_matrices ()"
   ]
  },
  {
   "cell_type": "code",
   "execution_count": null,
   "metadata": {},
   "outputs": [],
   "source": []
  },
  {
   "cell_type": "code",
   "execution_count": 12,
   "metadata": {},
   "outputs": [],
   "source": [
    "# class BasisMatricesTestClass (unittest.TestCase):\n",
    "#     def setUp (self):\n",
    "#         n, k, self.l = 32, 4, 3\n",
    "#         xs = np.linspace(0, 1, n)\n",
    "        \n",
    "#         M_1s = shifted_scaled_matrices(xs, k, self.l)\n",
    "        \n",
    "#         U_i_js_ = orth_moments_matrices_builder(xs, k)\n",
    "#         U_i_js = U_i_js_(M_1s)\n",
    "        \n",
    "#         Us_ = basis_matrices_builder(n, k, self.l)\n",
    "#         self.Us = Us_(U_j_is)\n",
    "    \n",
    "#     def plot (self):\n",
    "#         for j in range(self.l):\n",
    "#             plt.spy(self.Us[j])"
   ]
  },
  {
   "cell_type": "code",
   "execution_count": 13,
   "metadata": {},
   "outputs": [],
   "source": [
    "# suite = unittest.TestLoader().loadTestsFromTestCase(BasisMatricesTestClass)\n",
    "# unittest.TextTestRunner(verbosity=4, stream=sys.stderr).run(suite)"
   ]
  },
  {
   "cell_type": "code",
   "execution_count": null,
   "metadata": {},
   "outputs": [],
   "source": []
  },
  {
   "cell_type": "code",
   "execution_count": 14,
   "metadata": {},
   "outputs": [],
   "source": [
    "n, k, l = 32, 4, 3\n",
    "xs = np.linspace(0, 1, n)\n",
    "\n",
    "M_1s = shifted_scaled_matrices(xs, k, l)\n",
    "\n",
    "U_j_is_ = orth_moments_matrices_builder(xs, k)\n",
    "U_j_is = U_j_is_(M_1s)\n",
    "\n",
    "Us_ = basis_matrices_builder(n, k, l)\n",
    "Us = Us_(U_j_is)"
   ]
  },
  {
   "cell_type": "code",
   "execution_count": 15,
   "metadata": {},
   "outputs": [],
   "source": [
    "for U_j in U_j_is:\n",
    "    for U in U_j:\n",
    "        n,_ = U.shape\n",
    "        I = np.eye(n)\n",
    "        UUT = U @ U.T\n",
    "        UTU = U.T @ U\n",
    "        assert np.allclose(UUT, I)\n",
    "        assert np.allclose(UTU, I)"
   ]
  },
  {
   "cell_type": "code",
   "execution_count": 39,
   "metadata": {},
   "outputs": [
    {
     "data": {
      "image/png": "[encoded data removed]",
      "text/plain": [
       "<Figure size 576x576 with 1 Axes>"
      ]
     },
     "metadata": {
      "needs_background": "light"
     },
     "output_type": "display_data"
    },
    {
     "data": {
      "image/png": "[encoded data removed]",
      "text/plain": [
       "<Figure size 576x576 with 1 Axes>"
      ]
     },
     "metadata": {
      "needs_background": "light"
     },
     "output_type": "display_data"
    },
    {
     "data": {
      "image/png": "[encoded data removed]",
      "text/plain": [
       "<Figure size 576x576 with 1 Axes>"
      ]
     },
     "metadata": {
      "needs_background": "light"
     },
     "output_type": "display_data"
    }
   ],
   "source": [
    "for j in range(l):\n",
    "    plt.figure(j, figsize=(8,8))\n",
    "    plt.title('j = {}'.format(j))\n",
    "    plt.spy(Us[j])"
   ]
  },
  {
   "cell_type": "code",
   "execution_count": 33,
   "metadata": {},
   "outputs": [
    {
     "name": "stdout",
     "output_type": "stream",
     "text": [
      "j = 0\n",
      "■ ■ ■ ■ ■ ■ ■ ■ □ □ □ □ □ □ □ □ □ □ □ □ □ □ □ □ □ □ □ □ □ □ □ □ \n",
      "■ ■ ■ ■ ■ ■ ■ ■ □ □ □ □ □ □ □ □ □ □ □ □ □ □ □ □ □ □ □ □ □ □ □ □ \n",
      "■ ■ ■ ■ ■ ■ ■ ■ □ □ □ □ □ □ □ □ □ □ □ □ □ □ □ □ □ □ □ □ □ □ □ □ \n",
      "■ ■ ■ ■ ■ ■ ■ ■ □ □ □ □ □ □ □ □ □ □ □ □ □ □ □ □ □ □ □ □ □ □ □ □ \n",
      "□ □ □ □ □ □ □ □ ■ ■ ■ ■ ■ ■ ■ ■ □ □ □ □ □ □ □ □ □ □ □ □ □ □ □ □ \n",
      "□ □ □ □ □ □ □ □ ■ ■ ■ ■ ■ ■ ■ ■ □ □ □ □ □ □ □ □ □ □ □ □ □ □ □ □ \n",
      "□ □ □ □ □ □ □ □ ■ ■ ■ ■ ■ ■ ■ ■ □ □ □ □ □ □ □ □ □ □ □ □ □ □ □ □ \n",
      "□ □ □ □ □ □ □ □ ■ ■ ■ ■ ■ ■ ■ ■ □ □ □ □ □ □ □ □ □ □ □ □ □ □ □ □ \n",
      "□ □ □ □ □ □ □ □ □ □ □ □ □ □ □ □ ■ ■ ■ ■ ■ ■ ■ ■ □ □ □ □ □ □ □ □ \n",
      "□ □ □ □ □ □ □ □ □ □ □ □ □ □ □ □ ■ ■ ■ ■ ■ ■ ■ ■ □ □ □ □ □ □ □ □ \n",
      "□ □ □ □ □ □ □ □ □ □ □ □ □ □ □ □ ■ ■ ■ ■ ■ ■ ■ ■ □ □ □ □ □ □ □ □ \n",
      "□ □ □ □ □ □ □ □ □ □ □ □ □ □ □ □ ■ ■ ■ ■ ■ ■ ■ ■ □ □ □ □ □ □ □ □ \n",
      "□ □ □ □ □ □ □ □ □ □ □ □ □ □ □ □ □ □ □ □ □ □ □ □ ■ ■ ■ ■ ■ ■ ■ ■ \n",
      "□ □ □ □ □ □ □ □ □ □ □ □ □ □ □ □ □ □ □ □ □ □ □ □ ■ ■ ■ ■ ■ ■ ■ ■ \n",
      "□ □ □ □ □ □ □ □ □ □ □ □ □ □ □ □ □ □ □ □ □ □ □ □ ■ ■ ■ ■ ■ ■ ■ ■ \n",
      "□ □ □ □ □ □ □ □ □ □ □ □ □ □ □ □ □ □ □ □ □ □ □ □ ■ ■ ■ ■ ■ ■ ■ ■ \n",
      "■ ■ ■ ■ ■ ■ ■ ■ □ □ □ □ □ □ □ □ □ □ □ □ □ □ □ □ □ □ □ □ □ □ □ □ \n",
      "■ ■ ■ ■ ■ ■ ■ ■ □ □ □ □ □ □ □ □ □ □ □ □ □ □ □ □ □ □ □ □ □ □ □ □ \n",
      "■ ■ ■ ■ ■ ■ ■ ■ □ □ □ □ □ □ □ □ □ □ □ □ □ □ □ □ □ □ □ □ □ □ □ □ \n",
      "■ ■ ■ ■ ■ ■ ■ ■ □ □ □ □ □ □ □ □ □ □ □ □ □ □ □ □ □ □ □ □ □ □ □ □ \n",
      "□ □ □ □ □ □ □ □ ■ ■ ■ ■ ■ ■ ■ ■ □ □ □ □ □ □ □ □ □ □ □ □ □ □ □ □ \n",
      "□ □ □ □ □ □ □ □ ■ ■ ■ ■ ■ ■ ■ ■ □ □ □ □ □ □ □ □ □ □ □ □ □ □ □ □ \n",
      "□ □ □ □ □ □ □ □ ■ ■ ■ ■ ■ ■ ■ ■ □ □ □ □ □ □ □ □ □ □ □ □ □ □ □ □ \n",
      "□ □ □ □ □ □ □ □ ■ ■ ■ ■ ■ ■ ■ ■ □ □ □ □ □ □ □ □ □ □ □ □ □ □ □ □ \n",
      "□ □ □ □ □ □ □ □ □ □ □ □ □ □ □ □ ■ ■ ■ ■ ■ ■ ■ ■ □ □ □ □ □ □ □ □ \n",
      "□ □ □ □ □ □ □ □ □ □ □ □ □ □ □ □ ■ ■ ■ ■ ■ ■ ■ ■ □ □ □ □ □ □ □ □ \n",
      "□ □ □ □ □ □ □ □ □ □ □ □ □ □ □ □ ■ ■ ■ ■ ■ ■ ■ ■ □ □ □ □ □ □ □ □ \n",
      "□ □ □ □ □ □ □ □ □ □ □ □ □ □ □ □ ■ ■ ■ ■ ■ ■ ■ ■ □ □ □ □ □ □ □ □ \n",
      "□ □ □ □ □ □ □ □ □ □ □ □ □ □ □ □ □ □ □ □ □ □ □ □ ■ ■ ■ ■ ■ ■ ■ ■ \n",
      "□ □ □ □ □ □ □ □ □ □ □ □ □ □ □ □ □ □ □ □ □ □ □ □ ■ ■ ■ ■ ■ ■ ■ ■ \n",
      "□ □ □ □ □ □ □ □ □ □ □ □ □ □ □ □ □ □ □ □ □ □ □ □ ■ ■ ■ ■ ■ ■ ■ ■ \n",
      "□ □ □ □ □ □ □ □ □ □ □ □ □ □ □ □ □ □ □ □ □ □ □ □ ■ ■ ■ ■ ■ ■ ■ ■ \n",
      "\n",
      "j = 1\n",
      "■ □ □ □ □ □ □ □ □ □ □ □ □ □ □ □ □ □ □ □ □ □ □ □ □ □ □ □ □ □ □ □ \n",
      "□ ■ □ □ □ □ □ □ □ □ □ □ □ □ □ □ □ □ □ □ □ □ □ □ □ □ □ □ □ □ □ □ \n",
      "□ □ ■ □ □ □ □ □ □ □ □ □ □ □ □ □ □ □ □ □ □ □ □ □ □ □ □ □ □ □ □ □ \n",
      "□ □ □ ■ □ □ □ □ □ □ □ □ □ □ □ □ □ □ □ □ □ □ □ □ □ □ □ □ □ □ □ □ \n",
      "□ □ □ □ ■ □ □ □ □ □ □ □ □ □ □ □ □ □ □ □ □ □ □ □ □ □ □ □ □ □ □ □ \n",
      "□ □ □ □ □ ■ □ □ □ □ □ □ □ □ □ □ □ □ □ □ □ □ □ □ □ □ □ □ □ □ □ □ \n",
      "□ □ □ □ □ □ ■ □ □ □ □ □ □ □ □ □ □ □ □ □ □ □ □ □ □ □ □ □ □ □ □ □ \n",
      "□ □ □ □ □ □ □ ■ □ □ □ □ □ □ □ □ □ □ □ □ □ □ □ □ □ □ □ □ □ □ □ □ \n",
      "□ □ □ □ □ □ □ □ ■ □ □ □ □ □ □ □ □ □ □ □ □ □ □ □ □ □ □ □ □ □ □ □ \n",
      "□ □ □ □ □ □ □ □ □ ■ □ □ □ □ □ □ □ □ □ □ □ □ □ □ □ □ □ □ □ □ □ □ \n",
      "□ □ □ □ □ □ □ □ □ □ ■ □ □ □ □ □ □ □ □ □ □ □ □ □ □ □ □ □ □ □ □ □ \n",
      "□ □ □ □ □ □ □ □ □ □ □ ■ □ □ □ □ □ □ □ □ □ □ □ □ □ □ □ □ □ □ □ □ \n",
      "□ □ □ □ □ □ □ □ □ □ □ □ ■ □ □ □ □ □ □ □ □ □ □ □ □ □ □ □ □ □ □ □ \n",
      "□ □ □ □ □ □ □ □ □ □ □ □ □ ■ □ □ □ □ □ □ □ □ □ □ □ □ □ □ □ □ □ □ \n",
      "□ □ □ □ □ □ □ □ □ □ □ □ □ □ ■ □ □ □ □ □ □ □ □ □ □ □ □ □ □ □ □ □ \n",
      "□ □ □ □ □ □ □ □ □ □ □ □ □ □ □ ■ □ □ □ □ □ □ □ □ □ □ □ □ □ □ □ □ \n",
      "□ □ □ □ □ □ □ □ □ □ □ □ □ □ □ □ ■ ■ ■ ■ ■ ■ ■ ■ □ □ □ □ □ □ □ □ \n",
      "□ □ □ □ □ □ □ □ □ □ □ □ □ □ □ □ ■ ■ ■ ■ ■ ■ ■ ■ □ □ □ □ □ □ □ □ \n",
      "□ □ □ □ □ □ □ □ □ □ □ □ □ □ □ □ ■ ■ ■ ■ ■ ■ ■ ■ □ □ □ □ □ □ □ □ \n",
      "□ □ □ □ □ □ □ □ □ □ □ □ □ □ □ □ ■ ■ ■ ■ ■ ■ ■ ■ □ □ □ □ □ □ □ □ \n",
      "□ □ □ □ □ □ □ □ □ □ □ □ □ □ □ □ □ □ □ □ □ □ □ □ ■ ■ ■ ■ ■ ■ ■ ■ \n",
      "□ □ □ □ □ □ □ □ □ □ □ □ □ □ □ □ □ □ □ □ □ □ □ □ ■ ■ ■ ■ ■ ■ ■ ■ \n",
      "□ □ □ □ □ □ □ □ □ □ □ □ □ □ □ □ □ □ □ □ □ □ □ □ ■ ■ ■ ■ ■ ■ ■ ■ \n",
      "□ □ □ □ □ □ □ □ □ □ □ □ □ □ □ □ □ □ □ □ □ □ □ □ ■ ■ ■ ■ ■ ■ ■ ■ \n",
      "□ □ □ □ □ □ □ □ □ □ □ □ □ □ □ □ ■ ■ ■ ■ ■ ■ ■ □ □ □ □ □ □ □ □ □ \n",
      "□ □ □ □ □ □ □ □ □ □ □ □ □ □ □ □ ■ ■ ■ ■ ■ ■ ■ ■ □ □ □ □ □ □ □ □ \n",
      "□ □ □ □ □ □ □ □ □ □ □ □ □ □ □ □ ■ ■ ■ ■ ■ ■ ■ ■ □ □ □ □ □ □ □ □ \n",
      "□ □ □ □ □ □ □ □ □ □ □ □ □ □ □ □ ■ ■ ■ ■ ■ ■ ■ ■ □ □ □ □ □ □ □ □ \n",
      "□ □ □ □ □ □ □ □ □ □ □ □ □ □ □ □ □ □ □ □ □ □ □ □ ■ ■ ■ ■ ■ ■ ■ ■ \n",
      "□ □ □ □ □ □ □ □ □ □ □ □ □ □ □ □ □ □ □ □ □ □ □ □ ■ ■ ■ ■ ■ ■ ■ ■ \n",
      "□ □ □ □ □ □ □ □ □ □ □ □ □ □ □ □ □ □ □ □ □ □ □ □ ■ ■ ■ ■ ■ ■ ■ ■ \n",
      "□ □ □ □ □ □ □ □ □ □ □ □ □ □ □ □ □ □ □ □ □ □ □ □ ■ ■ ■ ■ ■ ■ ■ ■ \n",
      "\n",
      "j = 2\n",
      "■ □ □ □ □ □ □ □ □ □ □ □ □ □ □ □ □ □ □ □ □ □ □ □ □ □ □ □ □ □ □ □ \n",
      "□ ■ □ □ □ □ □ □ □ □ □ □ □ □ □ □ □ □ □ □ □ □ □ □ □ □ □ □ □ □ □ □ \n",
      "□ □ ■ □ □ □ □ □ □ □ □ □ □ □ □ □ □ □ □ □ □ □ □ □ □ □ □ □ □ □ □ □ \n",
      "□ □ □ ■ □ □ □ □ □ □ □ □ □ □ □ □ □ □ □ □ □ □ □ □ □ □ □ □ □ □ □ □ \n",
      "□ □ □ □ ■ □ □ □ □ □ □ □ □ □ □ □ □ □ □ □ □ □ □ □ □ □ □ □ □ □ □ □ \n",
      "□ □ □ □ □ ■ □ □ □ □ □ □ □ □ □ □ □ □ □ □ □ □ □ □ □ □ □ □ □ □ □ □ \n",
      "□ □ □ □ □ □ ■ □ □ □ □ □ □ □ □ □ □ □ □ □ □ □ □ □ □ □ □ □ □ □ □ □ \n",
      "□ □ □ □ □ □ □ ■ □ □ □ □ □ □ □ □ □ □ □ □ □ □ □ □ □ □ □ □ □ □ □ □ \n",
      "□ □ □ □ □ □ □ □ ■ □ □ □ □ □ □ □ □ □ □ □ □ □ □ □ □ □ □ □ □ □ □ □ \n",
      "□ □ □ □ □ □ □ □ □ ■ □ □ □ □ □ □ □ □ □ □ □ □ □ □ □ □ □ □ □ □ □ □ \n",
      "□ □ □ □ □ □ □ □ □ □ ■ □ □ □ □ □ □ □ □ □ □ □ □ □ □ □ □ □ □ □ □ □ \n",
      "□ □ □ □ □ □ □ □ □ □ □ ■ □ □ □ □ □ □ □ □ □ □ □ □ □ □ □ □ □ □ □ □ \n",
      "□ □ □ □ □ □ □ □ □ □ □ □ ■ □ □ □ □ □ □ □ □ □ □ □ □ □ □ □ □ □ □ □ \n",
      "□ □ □ □ □ □ □ □ □ □ □ □ □ ■ □ □ □ □ □ □ □ □ □ □ □ □ □ □ □ □ □ □ \n",
      "□ □ □ □ □ □ □ □ □ □ □ □ □ □ ■ □ □ □ □ □ □ □ □ □ □ □ □ □ □ □ □ □ \n",
      "□ □ □ □ □ □ □ □ □ □ □ □ □ □ □ ■ □ □ □ □ □ □ □ □ □ □ □ □ □ □ □ □ \n",
      "□ □ □ □ □ □ □ □ □ □ □ □ □ □ □ □ ■ □ □ □ □ □ □ □ □ □ □ □ □ □ □ □ \n",
      "□ □ □ □ □ □ □ □ □ □ □ □ □ □ □ □ □ ■ □ □ □ □ □ □ □ □ □ □ □ □ □ □ \n",
      "□ □ □ □ □ □ □ □ □ □ □ □ □ □ □ □ □ □ ■ □ □ □ □ □ □ □ □ □ □ □ □ □ \n",
      "□ □ □ □ □ □ □ □ □ □ □ □ □ □ □ □ □ □ □ ■ □ □ □ □ □ □ □ □ □ □ □ □ \n",
      "□ □ □ □ □ □ □ □ □ □ □ □ □ □ □ □ □ □ □ □ ■ □ □ □ □ □ □ □ □ □ □ □ \n",
      "□ □ □ □ □ □ □ □ □ □ □ □ □ □ □ □ □ □ □ □ □ ■ □ □ □ □ □ □ □ □ □ □ \n",
      "□ □ □ □ □ □ □ □ □ □ □ □ □ □ □ □ □ □ □ □ □ □ ■ □ □ □ □ □ □ □ □ □ \n",
      "□ □ □ □ □ □ □ □ □ □ □ □ □ □ □ □ □ □ □ □ □ □ □ ■ □ □ □ □ □ □ □ □ \n",
      "□ □ □ □ □ □ □ □ □ □ □ □ □ □ □ □ □ □ □ □ □ □ □ □ ■ ■ ■ ■ ■ ■ ■ ■ \n",
      "□ □ □ □ □ □ □ □ □ □ □ □ □ □ □ □ □ □ □ □ □ □ □ □ ■ ■ ■ ■ ■ ■ ■ ■ \n",
      "□ □ □ □ □ □ □ □ □ □ □ □ □ □ □ □ □ □ □ □ □ □ □ □ ■ ■ ■ ■ ■ ■ ■ ■ \n",
      "□ □ □ □ □ □ □ □ □ □ □ □ □ □ □ □ □ □ □ □ □ □ □ □ ■ ■ ■ ■ ■ ■ ■ ■ \n",
      "□ □ □ □ □ □ □ □ □ □ □ □ □ □ □ □ □ □ □ □ □ □ □ □ ■ ■ ■ ■ ■ ■ ■ ■ \n",
      "□ □ □ □ □ □ □ □ □ □ □ □ □ □ □ □ □ □ □ □ □ □ □ □ ■ ■ ■ ■ ■ ■ ■ ■ \n",
      "□ □ □ □ □ □ □ □ □ □ □ □ □ □ □ □ □ □ □ □ □ □ □ □ ■ ■ ■ ■ ■ ■ ■ ■ \n",
      "□ □ □ □ □ □ □ □ □ □ □ □ □ □ □ □ □ □ □ □ □ □ □ □ ■ ■ ■ ■ ■ ■ ■ ■ \n",
      "\n"
     ]
    }
   ],
   "source": [
    "for j,U in enumerate(Us):\n",
    "    n,m = U.shape\n",
    "    print('j =', j)\n",
    "#     print(U.toarray(), end='\\n\\n')\n",
    "    for r in range(n):\n",
    "        for c in range(m):\n",
    "            print('{}'.format('□' if U[r,c] == 0 else '■'), end=' ')\n",
    "        print()\n",
    "    print()"
   ]
  },
  {
   "cell_type": "markdown",
   "metadata": {},
   "source": [
    "##### **Procedure to compute** $UTU^T$\n",
    "\n",
    "**Comment** [Input to this procedure consists of $n, k$, the matrices $U_{j,i}$ computed above, a function to compute elements of $T$, and the chosen precision $\\varepsilon$. Output is a matrix $R_l$ such that $\\lVert R_l - UTU^T \\rVert \\lt \\varepsilon \\lVert T \\rVert $.]\n",
    "\n",
    "<h5 style=\"text-align: center; font-weight: bold;\">Step 4.</h5>\n",
    "\n",
    "Compute the $k \\times k$ extracts, indicated by Eq. (4.18), of the submatrices of $T$ shown in Fig. 4.4.\n",
    "\n",
    "<img src=\"fig_4.4.jpg\" style=\"width: 70%;\">"
   ]
  },
  {
   "cell_type": "code",
   "execution_count": 17,
   "metadata": {},
   "outputs": [],
   "source": [
    "# calculate matrix T, K is a kernel function with 2 arguments\n",
    "def trapezoidal_matrix (xs, K):\n",
    "    n = len(xs)\n",
    "    \n",
    "    return np.array(\n",
    "        [\n",
    "            [ 0 if i == j else K(x_i, x_j)/(n-1) for j,x_j in enumerate(xs) ] \n",
    "            for i,x_i in enumerate(xs) \n",
    "        ]\n",
    "    )"
   ]
  },
  {
   "cell_type": "code",
   "execution_count": 18,
   "metadata": {},
   "outputs": [],
   "source": [
    "def extract_symmetric_block_diag (M, index, block_size):\n",
    "    assert isinstance(M, np.ndarray)\n",
    "  \n",
    "    rows, columns = M.shape\n",
    "    assert rows == columns\n",
    "\n",
    "    size = rows\n",
    "    assert size >= index+block_size\n",
    "\n",
    "    N = deepcopy(M)\n",
    "    R = np.zeros_like(N)\n",
    "\n",
    "    for j in range(index, size, block_size):\n",
    "        i = j-index\n",
    "        R[i:i+block_size, j:j+block_size] = N[i:i+block_size, j:j+block_size]\n",
    "        N[i:i+block_size, j:j+block_size] = np.zeros( (block_size, block_size) )\n",
    "\n",
    "        if i != j:\n",
    "            R[j:j+block_size, i:i+block_size] = N[j:j+block_size, i:i+block_size]\n",
    "            N[j:j+block_size, i:i+block_size] = np.zeros( (block_size, block_size) )\n",
    "  \n",
    "    return N, R"
   ]
  },
  {
   "cell_type": "markdown",
   "metadata": {},
   "source": [
    "__Alexandre:__ This \"either\" in the image below may be wrong, probably the only right option is suplying a column to start in. The `extract_symmetric_block_diag()` function receives a matrix and outputs two matrices: \n",
    "\n",
    "* the first one is the original with zeros in the places from where the submatrices were extracted; \n",
    "* the second is the the matrix of the extracted submatrices\n",
    "\n",
    "<img src=\"sym-block-diag.jpg\" style=\"text-align:center\" />"
   ]
  },
  {
   "cell_type": "code",
   "execution_count": 19,
   "metadata": {},
   "outputs": [],
   "source": [
    "def submatrices_T (T, k, l):\n",
    "    n = T.shape[0]\n",
    "\n",
    "    block_sizes = ( 2**i*k for i in range(l-2,0,-1) )\n",
    "\n",
    "    Ts = []\n",
    "\n",
    "    T_0 = deepcopy(T)\n",
    "    T_i = np.zeros_like(T_0)\n",
    "    start_index = n\n",
    "    \n",
    "    for block_size in block_sizes:\n",
    "        start_index -= block_size\n",
    "        T_0, T_i_0 = extract_symmetric_block_diag(T_0, start_index, block_size)\n",
    "\n",
    "        start_index -= block_size\n",
    "        T_0, T_i_1 = extract_symmetric_block_diag(T_0, start_index, block_size)\n",
    "\n",
    "        T_i = T_i_0 + T_i_1\n",
    "        Ts = [deepcopy(T_i)] + Ts\n",
    "\n",
    "    return [T_0] + Ts"
   ]
  },
  {
   "cell_type": "code",
   "execution_count": 20,
   "metadata": {},
   "outputs": [],
   "source": [
    "def extract_from_T_matrices (Ts, k):\n",
    "    n = Ts[0].shape[0]\n",
    "    \n",
    "    start = n // k #- 1\n",
    "    return [ T[start::k, start::k] for T in Ts ]"
   ]
  },
  {
   "cell_type": "markdown",
   "metadata": {},
   "source": [
    "<h5 style=\"text-align: center; font-weight: bold;\">Step 5.</h5>\n",
    "\n",
    "Extract the matrices $P''$ (Eq. (4.19)) from $U_1, U_2U_1, \\dots, U_l \\dots U_1$ and compute $W_0, \\dots, W_{l-2}$ according to Eqs. (4.20)."
   ]
  },
  {
   "cell_type": "code",
   "execution_count": 21,
   "metadata": {},
   "outputs": [],
   "source": [
    "# deu ruim, os Us começam índices no 1 e os Vs no 0. tenho que rever isso escrever as docstrings, testes e plots\n",
    "\n",
    "def dot_product (X, Y):\n",
    "    return X @ Y\n",
    "\n",
    "def P_prime_matrices (U_js, n, k):\n",
    "    I = sparse.eye(n)\n",
    "    \n",
    "    return [ reduce(dot_product, U_js[j:-1:-1], I).tolil()[-k:] for j,_ in enumerate(U_js) ]\n",
    "\n",
    "def P_second_matrices (P_primes, n, k):\n",
    "    return [ P_prime[:,::n//k] for P_prime in P_primes ]        "
   ]
  },
  {
   "cell_type": "code",
   "execution_count": 22,
   "metadata": {},
   "outputs": [],
   "source": [
    "# def W_matrices (P_seconds, Vs):\n",
    "#     return [  for i,(P_second,V) in enumerate(zip(P_seconds, Vs)) ]"
   ]
  },
  {
   "cell_type": "code",
   "execution_count": null,
   "metadata": {},
   "outputs": [],
   "source": []
  },
  {
   "cell_type": "code",
   "execution_count": null,
   "metadata": {},
   "outputs": [],
   "source": []
  },
  {
   "cell_type": "code",
   "execution_count": null,
   "metadata": {},
   "outputs": [],
   "source": []
  },
  {
   "cell_type": "markdown",
   "metadata": {},
   "source": [
    "<h5 style=\"text-align: center; font-weight: bold;\">Step 6.</h5>\n",
    "\n",
    "Compute $R_0, \\dots, R_l$ by Eq. (4.21), discarding elements below a threshold $\\tau$ determined by the precision $\\varepsilon$ (Eq. (4.22))"
   ]
  },
  {
   "cell_type": "code",
   "execution_count": null,
   "metadata": {},
   "outputs": [],
   "source": []
  },
  {
   "cell_type": "markdown",
   "metadata": {},
   "source": [
    "##### **Procedure to compute** $UT^{-1}U^T$\n",
    "\n",
    "**Comment** \\[Input to this procedure consists of n the matrix $R_l$ which approximates $UTU^T$, and the precision $\\varepsilon$. Output is a matrix $X_m$ that approximates $UT^{-1}U^T$.\\]\n",
    "\n",
    "<h5 style=\"text-align: center; font-weight: bold;\">Step 7.</h5>\n",
    "\n",
    "Compute the matrix $\\displaystyle X_0 = \\frac{R_l T R_l}{\\lVert R_l T R_l \\rVert}$ by direct matrix multiplication, discarding elements below a threshold $\\tau$ determined by the precision $\\varepsilon$ (Eq. (4.22))"
   ]
  },
  {
   "cell_type": "code",
   "execution_count": null,
   "metadata": {},
   "outputs": [],
   "source": []
  },
  {
   "cell_type": "markdown",
   "metadata": {},
   "source": [
    "<h5 style=\"text-align: center; font-weight: bold;\">Step 8.</h5>\n",
    "\n",
    "**Comment** \\[Obtain the inverse by Schulz iteration.\\]\n",
    "\n",
    "```\n",
    "do m = 0, 1, ... while ||I - X_m R_l|| > epsilon\n",
    "    Compute X_m+1 = 2 X_m - X_m R_l X_m, discarding elements below threshold\n",
    "enddo\n",
    "```"
   ]
  },
  {
   "cell_type": "code",
   "execution_count": null,
   "metadata": {},
   "outputs": [],
   "source": []
  }
 ],
 "metadata": {
  "kernelspec": {
   "display_name": "Python 3",
   "language": "python",
   "name": "python3"
  },
  "language_info": {
   "codemirror_mode": {
    "name": "ipython",
    "version": 3
   },
   "file_extension": ".py",
   "mimetype": "text/x-python",
   "name": "python",
   "nbconvert_exporter": "python",
   "pygments_lexer": "ipython3",
   "version": "3.7.6"
  }
 },
 "nbformat": 4,
 "nbformat_minor": 4
}
