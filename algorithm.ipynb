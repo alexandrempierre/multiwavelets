{
 "cells": [
  {
   "cell_type": "code",
   "execution_count": 5,
   "metadata": {},
   "outputs": [],
   "source": [
    "import numpy as np\n",
    "from scipy import linalg\n",
    "from scipy import special\n",
    "from matplotlib import pyplot as plt\n",
    "\n",
    "from copy import deepcopy"
   ]
  },
  {
   "cell_type": "markdown",
   "metadata": {},
   "source": [
    "##### **Procedure to compute** $U_1, \\dots, U_l$\n",
    "\n",
    "**Comment** \\[Input to this procedure consists of the number of points $n$, the number of zero moments $k$, and the points $x_1, \\dots, x_n$. Output is the matrices $U_{j,i}$ for $j = 1, \\dots, l$ and $\\displaystyle i = l, \\dots, \\frac{n}{2^jk}$, which make up the matrices $U_1, \\dots, U_l$ (note $\\displaystyle l = \\log_2 \\left( \\frac{n}{k} \\right)$).\\]"
   ]
  },
  {
   "cell_type": "markdown",
   "metadata": {},
   "source": [
    "<h5 style=\"text-align: center; font-weight: bold;\"> Step 1. </h5>\n",
    "\n",
    "Compute the shifted and scaled moments matrices $M'_{1,i}$ for $\\displaystyle i = 1, \\dots, \\frac{n}{2k}$."
   ]
  },
  {
   "cell_type": "code",
   "execution_count": null,
   "metadata": {},
   "outputs": [],
   "source": [
    "# In text:\n",
    "# j = 1, ..., l\n",
    "# i = 1, ..., n/(2^j*k)\n",
    "\n",
    "# In this cell:\n",
    "# j = 0, ..., l-1\n",
    "# i = 0, ..., n/(2^j*k)-1\n",
    "\n",
    "def mu_builder (xs, k):\n",
    "    def mu (j, i):\n",
    "        return ( xs[ 1+2**j*k*i ] + xs[ 2**j*k*(i+1) ] ) / 2\n",
    "    \n",
    "    return mu\n",
    "\n",
    "def sigma_builder (xs, k):\n",
    "    def sigma (j, i):\n",
    "        return ( xs[ 2**j*k*(i+1) ] - xs[1 + 2**j*k*i] ) / 2\n",
    "    \n",
    "    return sigma\n",
    "\n",
    "def s_builder (k):\n",
    "    def s (i):\n",
    "        return 2*k*i\n",
    "    \n",
    "    return s"
   ]
  },
  {
   "cell_type": "code",
   "execution_count": null,
   "metadata": {},
   "outputs": [],
   "source": [
    "def shifted_scaled_matrices (xs, k, l):\n",
    "    n = len(xs)\n",
    "    assert n % (2*k) == 0\n",
    "    \n",
    "    mu_function = mu_builder(xs, k)\n",
    "    sigma_function = sigma_builder(xs, k)\n",
    "    s_function = s_builder(k)\n",
    "    \n",
    "    Ms = []\n",
    "    for i in range(n//(2*k)): # matrices loop\n",
    "        mu = mu_function(1, i)\n",
    "        sigma = sigma_function(1, i)\n",
    "        s = s_function(i)\n",
    "        \n",
    "        M = np.ones((2*k,2*k))\n",
    "        for r in range(2*k): # rows loop\n",
    "            for c in range(1,2*k): # entries loop\n",
    "                M[r,c] = (xs[s + i] - mu) / sigma\n",
    "        \n",
    "        Ms.append( deepcopy(M) )\n",
    "    \n",
    "    return Ms"
   ]
  },
  {
   "cell_type": "markdown",
   "metadata": {},
   "source": [
    "<h5 style=\"text-align: center; font-weight: bold;\">Step 2.</h5>\n",
    "\n",
    "Compute $U_{1,i}$ from $M'_{1,i}$ by Eq. (4.11) using Gram-Schmidt (?) orthogonalization for $i = 1,\\dots, \\frac{n}{2k}$."
   ]
  },
  {
   "cell_type": "code",
   "execution_count": null,
   "metadata": {},
   "outputs": [],
   "source": [
    "def U_1_i (M):\n",
    "    return linalg.qr(M).pop(0).T\n",
    "\n",
    "def U_1s (Ms):\n",
    "    return [ [U_1_i(M) for M in Ms] ]"
   ]
  },
  {
   "cell_type": "markdown",
   "metadata": {},
   "source": [
    "<h5 style=\"text-align: center; font-weight: bold;\">Step 3.</h5>\n",
    "\n",
    "**Comment** \\[Compute $M'_{j,i}$ and $U_{j,i}$ for $j = 2, \\dots, l$ and $\\displaystyle i = 1, \\dots, \\frac{n}{2^jk}$\\.]\n",
    "\n",
    "<!-- Seja M uma matriz m x n, M^U é a matriz m/2 x n formada pelas m/2 primeiras linhas de M -->\n",
    "<!-- Seja M uma matriz m x n, M^L é a matriz m/2 x n formada pelas m/2 últimas linhas de M -->\n",
    "\n",
    "<img src=\"step-3_algorithm.jpg\">\n",
    "\n",
    "<!--\n",
    "```\n",
    "do j = 2, ..., l\n",
    "    do i = 1, ..., n/(2^j*k)\n",
    "        Compute U_j-1,2i-1^U M'_j-1,2i-1 and U_j-1,2i^U M'_j-1,2i.\n",
    "        Compute S^1_j,i by Eq. (4.16) and S^2_j,i by Eq. (4.17);\n",
    "            multiply to obtain M'_j,i by Eq. (4.13).\n",
    "        Orthogonalize M'_j,i to obtain U_j,i by Eq. (4.11).\n",
    "    enddo\n",
    "enddo\n",
    "```\n",
    "-->\n",
    "\n",
    "##### **Procedure to compute** $UTU^T$\n",
    "\n",
    "**Comment** [Input to this procedure consists of $n, k$, the matrices $U_{j,i}$ computed above, a function to compute elements of $T$, and the chosen precision $\\varepsilon$. Output is a matrix $R_l$ such that $\\lVert R_l - UTU^T \\rVert \\lt \\varepsilon \\lVert T \\rVert $.]"
   ]
  },
  {
   "cell_type": "code",
   "execution_count": null,
   "metadata": {},
   "outputs": [],
   "source": [
    "def upper_half (matrix):\n",
    "    # checks if there's an even number of rows\n",
    "    rows = matrix.shape[0]\n",
    "    assert rows % 2 == 0\n",
    "    \n",
    "    return matrix[:rows//2]"
   ]
  },
  {
   "cell_type": "code",
   "execution_count": null,
   "metadata": {},
   "outputs": [],
   "source": [
    "def Us_builder (xs, k, l):\n",
    "    n = len(xs)\n",
    "    \n",
    "    def Us (U_1, Ms):\n",
    "        U = [U_1]\n",
    "        \n",
    "        for j in range(l):\n",
    "            for i in range(n//(2**j*k)):\n",
    "                pass\n",
    "    \n",
    "        return #\n",
    "    \n",
    "    return Us"
   ]
  },
  {
   "cell_type": "code",
   "execution_count": null,
   "metadata": {},
   "outputs": [],
   "source": []
  },
  {
   "cell_type": "code",
   "execution_count": null,
   "metadata": {},
   "outputs": [],
   "source": []
  },
  {
   "cell_type": "code",
   "execution_count": null,
   "metadata": {},
   "outputs": [],
   "source": []
  },
  {
   "cell_type": "code",
   "execution_count": null,
   "metadata": {},
   "outputs": [],
   "source": [
    "def S_entry (mu, sigma, i, j):\n",
    "    return special.binom(j, i)*(-mu)**(j-i)/sigma**(j)\n",
    "\n",
    "def S_builder (xs, k):\n",
    "    def S (mu, sigma):\n",
    "        return [ [ S_entry(mu, sigma, i, j) for j in range(2*k) ] for i in range(2*k) ]\n",
    "    \n",
    "    return\n",
    "\n",
    "def S_1_builder (xs, k, mu=None, sigma=None):\n",
    "    if mu is None:\n",
    "        mu = mu_builder(xs, k)\n",
    "    \n",
    "    if sigma is None:\n",
    "        sigma = sigma_builder(xs, k)\n",
    "    \n",
    "    S = S_builder(xs, k)\n",
    "    \n",
    "    def S_1 (j, i):\n",
    "        # this indices (j, i) are not the entries of the matrix\n",
    "        # instead those denote a matrix in a collections of matrices\n",
    "        m = (mu(j, i) - mu(j-1, 2*i-1)) / sigma(j-1, 2*i-1)\n",
    "        s = sigma(j, i) / sigma(j-1, 2*i-1)\n",
    "        return S(m, s)\n",
    "    \n",
    "    return S_1\n",
    "\n",
    "def S_2_builder (xs, k, mu=None, sigma=None):\n",
    "    if mu is None:\n",
    "        mu = mu_builder(xs, k)\n",
    "    \n",
    "    if sigma is None:\n",
    "        sigma = sigma_builder(xs, k)\n",
    "    \n",
    "    S = S_builder(xs, k)\n",
    "    \n",
    "    def S_2 (j, i):\n",
    "        m = (mu(j, i) - mu(j-1, 2*i)) / sigma(j-1, 2*i)\n",
    "        s = sigma(j, i) / sigma(j-1, 2*i)\n",
    "        return S(m, s)\n",
    "    \n",
    "    return S_2"
   ]
  },
  {
   "cell_type": "code",
   "execution_count": null,
   "metadata": {},
   "outputs": [],
   "source": []
  },
  {
   "cell_type": "markdown",
   "metadata": {},
   "source": [
    "<h5 style=\"text-align: center; font-weight: bold;\">Step 4.</h5>\n",
    "\n",
    "Compute the $k \\times k$ extracts, indicated by Eq. (4.18), of the submatrices of $T$ shown in Fig. 4.4.\n",
    "\n",
    "<img src=\"fig_4.4.jpg\" style=\"width: 70%;\">"
   ]
  },
  {
   "cell_type": "code",
   "execution_count": null,
   "metadata": {},
   "outputs": [],
   "source": []
  },
  {
   "cell_type": "markdown",
   "metadata": {},
   "source": [
    "<h5 style=\"text-align: center; font-weight: bold;\">Step 5.</h5>\n",
    "\n",
    "Extract the matrices $P''$ (Eq. (4.19)) from $U_1, U_2U_1, \\dots, U_l \\dots U_1$ and compute $W_0, \\dots, W_{l-2}$ according to Eqs. (4.20)."
   ]
  },
  {
   "cell_type": "code",
   "execution_count": null,
   "metadata": {},
   "outputs": [],
   "source": []
  },
  {
   "cell_type": "markdown",
   "metadata": {},
   "source": [
    "<h5 style=\"text-align: center; font-weight: bold;\">Step 6.</h5>\n",
    "\n",
    "Compute $R_0, \\dots, R_l$ by Eq. (4.21), discarding elements below a threshold $\\tau$ determined by the precision $\\varepsilon$ (Eq. (4.22))\n",
    "\n",
    "##### **Procedure to compute** $UT^{-1}U^T$\n",
    "\n",
    "**Comment** \\[Input to this procedure consists of n the matrix $R_l$ which approximates $UTU^T$, and the precision $\\varepsilon$. Output is a matrix $X_m$ that approximates $UT^{-1}U^T$.\\]"
   ]
  },
  {
   "cell_type": "code",
   "execution_count": null,
   "metadata": {},
   "outputs": [],
   "source": []
  },
  {
   "cell_type": "markdown",
   "metadata": {},
   "source": [
    "<h5 style=\"text-align: center; font-weight: bold;\">Step 7.</h5>\n",
    "\n",
    "Compute the matrix $\\displaystyle X_0 = \\frac{R_l T R_l}{\\lVert R_l T R_l \\rVert}$ by direct matrix multiplication, discarding elements below a threshold $\\tau$ determined by the precision $\\varepsilon$ (Eq. (4.22))"
   ]
  },
  {
   "cell_type": "code",
   "execution_count": null,
   "metadata": {},
   "outputs": [],
   "source": []
  },
  {
   "cell_type": "markdown",
   "metadata": {},
   "source": [
    "<h5 style=\"text-align: center; font-weight: bold;\">Step 8.</h5>\n",
    "\n",
    "**Comment** \\[Obtain the inverse by Schulz iteration.\\]\n",
    "\n",
    "```\n",
    "do m = 0, 1, ... while ||I - X_m R_l|| > epsilon\n",
    "    Compute X_m+1 = 2 X_m - X_m R_l X_m, discarding elements below threshold\n",
    "enddo\n",
    "```"
   ]
  },
  {
   "cell_type": "code",
   "execution_count": null,
   "metadata": {},
   "outputs": [],
   "source": []
  }
 ],
 "metadata": {
  "kernelspec": {
   "display_name": "Python 3",
   "language": "python",
   "name": "python3"
  },
  "language_info": {
   "codemirror_mode": {
    "name": "ipython",
    "version": 3
   },
   "file_extension": ".py",
   "mimetype": "text/x-python",
   "name": "python",
   "nbconvert_exporter": "python",
   "pygments_lexer": "ipython3",
   "version": "3.7.6"
  }
 },
 "nbformat": 4,
 "nbformat_minor": 4
}
